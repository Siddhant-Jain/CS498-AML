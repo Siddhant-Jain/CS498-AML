{
 "cells": [
  {
   "cell_type": "markdown",
   "metadata": {},
   "source": [
    "## CS 498 AML HW 3<br>\n",
    "Kenneth Zhang (kfzhang2)<br>\n",
    "Kirsten Wong <br>\n",
    "Roshan Rajan <br>"
   ]
  },
  {
   "cell_type": "markdown",
   "metadata": {},
   "source": [
    "4.10. CIFAR-10 is a dataset of 32x32 images in 10 categories, collected by Alex\n",
    "Krizhevsky, Vinod Nair, and Geoffrey Hinton. It is often used to evaluate\n",
    "machine learning algorithms. You can download this dataset from https://www.cs.toronto.edu/∼kriz/cifar.html."
   ]
  },
  {
   "cell_type": "code",
   "execution_count": 99,
   "metadata": {
    "collapsed": true
   },
   "outputs": [],
   "source": [
    "import numpy as np\n",
    "from matplotlib import pyplot as plt\n",
    "%matplotlib inline"
   ]
  },
  {
   "cell_type": "code",
   "execution_count": 100,
   "metadata": {
    "collapsed": true
   },
   "outputs": [],
   "source": [
    "# Method for loading image data into dictionary.\n",
    "def unpickle(file):\n",
    "    import cPickle\n",
    "    fo = open(file, 'rb')\n",
    "    dict = cPickle.load(fo)\n",
    "    fo.close()\n",
    "    return dict"
   ]
  },
  {
   "cell_type": "code",
   "execution_count": 3,
   "metadata": {
    "collapsed": true
   },
   "outputs": [],
   "source": [
    "# Loads data from cifar folder into dictionary. (Make sure folder is in same directory as this notebook.)\n",
    "import os\n",
    "dirname = os.getcwd()\n",
    "\n",
    "# Load entire batch; each has 10,000 images and labels. Maybe combine them into one matrix?\n",
    "db1 = unpickle(dirname+'/cifar-10-batches-py/data_batch_1')\n",
    "db2 = unpickle(dirname+'/cifar-10-batches-py/data_batch_2')\n",
    "db3 = unpickle(dirname+'/cifar-10-batches-py/data_batch_3')\n",
    "db4 = unpickle(dirname+'/cifar-10-batches-py/data_batch_4')\n",
    "db5 = unpickle(dirname+'/cifar-10-batches-py/data_batch_5')\n",
    "\n",
    "# Load test batch\n",
    "testb = unpickle(dirname+'/cifar-10-batches-py/test_batch')"
   ]
  },
  {
   "cell_type": "code",
   "execution_count": 101,
   "metadata": {
    "collapsed": false
   },
   "outputs": [],
   "source": [
    "# Combine examples and labels into their own matrices\n",
    "\n",
    "all_data = np.concatenate((db1['data'],db2['data']),0)\n",
    "all_data = np.concatenate((all_data,db3['data']),0)\n",
    "all_data = np.concatenate((all_data,db4['data']),0)\n",
    "all_data = np.concatenate((all_data,db5['data']),0)\n",
    "\n",
    "all_lbls = np.concatenate((db1['labels'],db2['labels']),0)\n",
    "all_lbls = np.concatenate((all_lbls,db3['labels']),0)\n",
    "all_lbls = np.concatenate((all_lbls,db4['labels']),0)\n",
    "all_lbls = np.concatenate((all_lbls,db5['labels']),0)\n"
   ]
  },
  {
   "cell_type": "code",
   "execution_count": 119,
   "metadata": {
    "collapsed": false
   },
   "outputs": [],
   "source": [
    "def printImg(data):\n",
    "    im = np.reshape(data,(3,1024))\n",
    "    im = np.transpose(im)\n",
    "    im.shape\n",
    "    im = np.reshape(im,(32,32,3))\n",
    "    im.astype('uint8')\n",
    "    plt.imshow(im, interpolation='nearest')\n",
    "    plt.figure()"
   ]
  },
  {
   "cell_type": "code",
   "execution_count": 103,
   "metadata": {
    "collapsed": false
   },
   "outputs": [],
   "source": [
    "# Dataset size\n",
    "d_size = 50000"
   ]
  },
  {
   "cell_type": "code",
   "execution_count": 104,
   "metadata": {
    "collapsed": false
   },
   "outputs": [],
   "source": [
    "# ==============\n",
    "# Problem 4.10 a\n",
    "# ==============\n",
    "\n",
    "# (a) For each category, compute the mean image and the first 20 principal\n",
    "# components. Plot the error resulting from representing the images of each\n",
    "# category using the first 20 principal components against the category.\n",
    "\n",
    "# Loop through batches to find mean image\n",
    "\n",
    "\n",
    "curr_total = np.zeros((10,3072))\n",
    "curr_matches = np.zeros(10)\n",
    "\n",
    "for i in range(0,d_size):\n",
    "    curr_total[all_lbls[i]] += all_data[i]\n",
    "    curr_matches[all_lbls[i]] += 1\n",
    "\n"
   ]
  },
  {
   "cell_type": "code",
   "execution_count": 105,
   "metadata": {
    "collapsed": false
   },
   "outputs": [
    {
     "name": "stdout",
     "output_type": "stream",
     "text": [
      "[ 115.0976  114.2104  114.7332 ...,  101.7988  101.6314  102.0214]\n"
     ]
    },
    {
     "data": {
      "image/png": "[encoded data removed]",
      "text/plain": [
       "<matplotlib.figure.Figure at 0x1326e9190>"
      ]
     },
     "metadata": {},
     "output_type": "display_data"
    },
    {
     "data": {
      "image/png": "[encoded data removed]",
      "text/plain": [
       "<matplotlib.figure.Figure at 0x11be1ad10>"
      ]
     },
     "metadata": {},
     "output_type": "display_data"
    },
    {
     "data": {
      "image/png": "[encoded data removed]",
      "text/plain": [
       "<matplotlib.figure.Figure at 0x1322d3d50>"
      ]
     },
     "metadata": {},
     "output_type": "display_data"
    },
    {
     "data": {
      "image/png": "[encoded data removed]",
      "text/plain": [
       "<matplotlib.figure.Figure at 0x119f17790>"
      ]
     },
     "metadata": {},
     "output_type": "display_data"
    },
    {
     "data": {
      "image/png": "[encoded data removed]",
      "text/plain": [
       "<matplotlib.figure.Figure at 0x11c0a0d90>"
      ]
     },
     "metadata": {},
     "output_type": "display_data"
    },
    {
     "data": {
      "image/png": "[encoded data removed]",
      "text/plain": [
       "<matplotlib.figure.Figure at 0x11c0b2bd0>"
      ]
     },
     "metadata": {},
     "output_type": "display_data"
    },
    {
     "data": {
      "image/png": "[encoded data removed]",
      "text/plain": [
       "<matplotlib.figure.Figure at 0x11bb00b50>"
      ]
     },
     "metadata": {},
     "output_type": "display_data"
    },
    {
     "data": {
      "image/png": "[encoded data removed]",
      "text/plain": [
       "<matplotlib.figure.Figure at 0x11bb422d0>"
      ]
     },
     "metadata": {},
     "output_type": "display_data"
    },
    {
     "data": {
      "image/png": "[encoded data removed]",
      "text/plain": [
       "<matplotlib.figure.Figure at 0x119e7abd0>"
      ]
     },
     "metadata": {},
     "output_type": "display_data"
    },
    {
     "data": {
      "image/png": "[encoded data removed]",
      "text/plain": [
       "<matplotlib.figure.Figure at 0x11bea6810>"
      ]
     },
     "metadata": {},
     "output_type": "display_data"
    },
    {
     "data": {
      "text/plain": [
       "<matplotlib.figure.Figure at 0x11bd5a050>"
      ]
     },
     "metadata": {},
     "output_type": "display_data"
    }
   ],
   "source": [
    "for i in range(0,curr_total.shape[0]):\n",
    "    curr_total[i] /= curr_matches[i]\n",
    "\n",
    "print curr_total[all_lbls[0]]\n",
    "    \n",
    "curr_total = curr_total.astype('uint8')    \n",
    "       \n",
    "\n",
    "    \n",
    "for i in range(0,curr_total.shape[0]):\n",
    "    printImg(curr_total[i])\n",
    "    "
   ]
  },
  {
   "cell_type": "code",
   "execution_count": 97,
   "metadata": {
    "collapsed": false
   },
   "outputs": [],
   "source": [
    "# Separate all_data by label\n",
    "\n",
    "all_data_lbls = np.zeros((10, 5000, 3072))\n",
    "\n",
    "for lbl in range(0, 10):\n",
    "    lbl_idxs = [x for x in range(0,all_lbls.shape[0]) if all_lbls[x] == lbl]\n",
    "    for i in range(0,len(lbl_idxs)):\n",
    "        all_data_lbls[lbl][i] += all_data[lbl_idxs[i]]\n",
    "    "
   ]
  },
  {
   "cell_type": "code",
   "execution_count": 111,
   "metadata": {
    "collapsed": false
   },
   "outputs": [],
   "source": [
    "# ==============\n",
    "# Problem 4.10 a (continued)\n",
    "# ==============\n",
    "\n",
    "# Run PCA on dataset, \n",
    "from sklearn import decomposition\n",
    "\n",
    "\n",
    "\n",
    "pca_0 = decomposition.PCA(n_components = 20)\n",
    "pca_1 = decomposition.PCA(n_components = 20)\n",
    "pca_2 = decomposition.PCA(n_components = 20)\n",
    "pca_3 = decomposition.PCA(n_components = 20)\n",
    "pca_4 = decomposition.PCA(n_components = 20)\n",
    "pca_5 = decomposition.PCA(n_components = 20)\n",
    "pca_6 = decomposition.PCA(n_components = 20)\n",
    "pca_7 = decomposition.PCA(n_components = 20)\n",
    "pca_8 = decomposition.PCA(n_components = 20)\n",
    "pca_9 = decomposition.PCA(n_components = 20)\n",
    "\n",
    "pcas = [pca_0, pca_1, pca_2, pca_3, pca_4, pca_5, pca_6, pca_7, pca_8, pca_9]\n",
    "\n",
    "for i in range(len(pcas)):\n",
    "    pcas[i].fit(all_data_lbls[i])\n",
    "\n",
    "\n"
   ]
  },
  {
   "cell_type": "code",
   "execution_count": 122,
   "metadata": {
    "collapsed": false
   },
   "outputs": [
    {
     "data": {
      "text/plain": [
       "array([-0.02042984, -0.02025366, -0.02026682, ..., -0.02337851,\n",
       "       -0.02332057, -0.02342711])"
      ]
     },
     "execution_count": 122,
     "metadata": {},
     "output_type": "execute_result"
    }
   ],
   "source": [
    "pcas[0].components_[0]\n",
    "# printImg(pcas[0].components_[0])"
   ]
  },
  {
   "cell_type": "code",
   "execution_count": null,
   "metadata": {
    "collapsed": true
   },
   "outputs": [],
   "source": [
    "# ==============\n",
    "# Problem 4.10 b\n",
    "# ==============\n",
    "\n",
    "# (b) Compute the distances between mean images for each pair of classes. Use\n",
    "# principal coordinate analysis to make a 2D map of the means of each\n",
    "# categories. For this exercise, compute distances by thinking of the images\n",
    "# as vectors.\n",
    "\n",
    "cls_dists = np.zeros((10,10))\n",
    "for i in range(0,curr_total.shape[0]-1):\n",
    "    for j in range(i+1,curr_total.shape[0]):\n",
    "        cls_dists[i,j] = np.linalg.norm(curr_total[i]-curr_total[j])\n",
    "        cls_dists[j,i] = np.linalg.norm(curr_total[i]-curr_total[j])\n",
    "\n",
    "        \n",
    "    "
   ]
  },
  {
   "cell_type": "code",
   "execution_count": null,
   "metadata": {
    "collapsed": true
   },
   "outputs": [],
   "source": [
    "# ==============\n",
    "# Problem 4.10 c\n",
    "# ==============\n",
    "\n",
    "# (c) Here is another measure of the similarity of two classes. For class A and\n",
    "# class B, define E(A → B) to be the average error obtained by representing\n",
    "# all the images of class A using the mean of class A and the first 20 principal\n",
    "# components of class B. Now define the similarity between classes to be\n",
    "# (1/2)(E(A → B)+E(B → A)). Use principal coordinate analysis to make\n",
    "# a 2D map of the classes. Compare this map to the map in the previous\n",
    "# exercise – are they different? why?\n",
    "\n",
    "\n"
   ]
  }
 ],
 "metadata": {
  "kernelspec": {
   "display_name": "Python 2",
   "language": "python",
   "name": "python2"
  },
  "language_info": {
   "codemirror_mode": {
    "name": "ipython",
    "version": 2
   },
   "file_extension": ".py",
   "mimetype": "text/x-python",
   "name": "python",
   "nbconvert_exporter": "python",
   "pygments_lexer": "ipython2",
   "version": "2.7.10"
  }
 },
 "nbformat": 4,
 "nbformat_minor": 0
}
