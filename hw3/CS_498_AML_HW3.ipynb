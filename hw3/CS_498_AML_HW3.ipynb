{
 "cells": [
  {
   "cell_type": "markdown",
   "metadata": {},
   "source": [
    "## CS 498 AML HW 3<br>\n",
    "Kenneth Zhang (kfzhang2)<br>\n",
    "Kirsten Wong (kewong2)<br>\n",
    "Roshan Rajan (rjrajan2)<br>"
   ]
  },
  {
   "cell_type": "markdown",
   "metadata": {},
   "source": [
    "4.10. CIFAR-10 is a dataset of 32x32 images in 10 categories, collected by Alex\n",
    "Krizhevsky, Vinod Nair, and Geoffrey Hinton. It is often used to evaluate\n",
    "machine learning algorithms. You can download this dataset from https://www.cs.toronto.edu/∼kriz/cifar.html."
   ]
  },
  {
   "cell_type": "markdown",
   "metadata": {},
   "source": [
    "## Initialization\n",
    "Here, we read in the training examples and combine them into a single matrix. We also combine their respective labels into a vector, in the same order corresponding to the examples."
   ]
  },
  {
   "cell_type": "code",
   "execution_count": 99,
   "metadata": {
    "collapsed": true
   },
   "outputs": [],
   "source": [
    "import numpy as np\n",
    "from matplotlib import pyplot as plt\n",
    "%matplotlib inline"
   ]
  },
  {
   "cell_type": "code",
   "execution_count": 100,
   "metadata": {
    "collapsed": true
   },
   "outputs": [],
   "source": [
    "# Method for loading image data into dictionary.\n",
    "def unpickle(file):\n",
    "    import cPickle\n",
    "    fo = open(file, 'rb')\n",
    "    dict = cPickle.load(fo)\n",
    "    fo.close()\n",
    "    return dict"
   ]
  },
  {
   "cell_type": "code",
   "execution_count": 3,
   "metadata": {
    "collapsed": true
   },
   "outputs": [],
   "source": [
    "# Loads data from cifar folder into dictionary. (Make sure folder is in same directory as this notebook.)\n",
    "import os\n",
    "dirname = os.getcwd()\n",
    "\n",
    "# Load entire batch; each has 10,000 images and labels. Maybe combine them into one matrix?\n",
    "db1 = unpickle(dirname+'/cifar-10-batches-py/data_batch_1')\n",
    "db2 = unpickle(dirname+'/cifar-10-batches-py/data_batch_2')\n",
    "db3 = unpickle(dirname+'/cifar-10-batches-py/data_batch_3')\n",
    "db4 = unpickle(dirname+'/cifar-10-batches-py/data_batch_4')\n",
    "db5 = unpickle(dirname+'/cifar-10-batches-py/data_batch_5')\n",
    "\n",
    "# Load test batch\n",
    "testb = unpickle(dirname+'/cifar-10-batches-py/test_batch')"
   ]
  },
  {
   "cell_type": "code",
   "execution_count": 101,
   "metadata": {
    "collapsed": false
   },
   "outputs": [],
   "source": [
    "# Combine examples and labels into their own matrices\n",
    "\n",
    "all_data = np.concatenate((db1['data'],db2['data']),0)\n",
    "all_data = np.concatenate((all_data,db3['data']),0)\n",
    "all_data = np.concatenate((all_data,db4['data']),0)\n",
    "all_data = np.concatenate((all_data,db5['data']),0)\n",
    "\n",
    "all_lbls = np.concatenate((db1['labels'],db2['labels']),0)\n",
    "all_lbls = np.concatenate((all_lbls,db3['labels']),0)\n",
    "all_lbls = np.concatenate((all_lbls,db4['labels']),0)\n",
    "all_lbls = np.concatenate((all_lbls,db5['labels']),0)\n"
   ]
  },
  {
   "cell_type": "code",
   "execution_count": 119,
   "metadata": {
    "collapsed": false
   },
   "outputs": [],
   "source": [
    "# Reshapes RGB array, converts to uint8, and displays image\n",
    "def printImg(data):\n",
    "    im = np.reshape(data,(3,1024))\n",
    "    im = np.transpose(im)\n",
    "    im.shape\n",
    "    im = np.reshape(im,(32,32,3))\n",
    "    im.astype('uint8')\n",
    "    plt.imshow(im, interpolation='nearest')\n",
    "    plt.figure()"
   ]
  },
  {
   "cell_type": "code",
   "execution_count": 103,
   "metadata": {
    "collapsed": false
   },
   "outputs": [],
   "source": [
    "# Dataset size\n",
    "d_size = 50000"
   ]
  },
  {
   "cell_type": "markdown",
   "metadata": {},
   "source": [
    "### Problem 4.10 a\n",
    "The code below computes the mean image for each category."
   ]
  },
  {
   "cell_type": "code",
   "execution_count": 104,
   "metadata": {
    "collapsed": false
   },
   "outputs": [],
   "source": [
    "# ==============\n",
    "# Problem 4.10 a\n",
    "# ==============\n",
    "\n",
    "# (a) For each category, compute the mean image and the first 20 principal\n",
    "# components. Plot the error resulting from representing the images of each\n",
    "# category using the first 20 principal components against the category.\n",
    "\n",
    "# Loop through batches to find mean image\n",
    "curr_total = np.zeros((10,3072))\n",
    "curr_matches = np.zeros(10)\n",
    "\n",
    "for i in range(0,d_size):\n",
    "    curr_total[all_lbls[i]] += all_data[i]\n",
    "    curr_matches[all_lbls[i]] += 1\n",
    "\n"
   ]
  },
  {
   "cell_type": "markdown",
   "metadata": {},
   "source": [
    "The mean images for each category are displayed below. We note that there is little detail present in the mean images, and that the colors are grayed out, likely due to the varied backgrounds and variety of positions in which the objects can be found."
   ]
  },
  {
   "cell_type": "code",
   "execution_count": 105,
   "metadata": {
    "collapsed": false
   },
   "outputs": [
    {
     "name": "stdout",
     "output_type": "stream",
     "text": [
      "[ 115.0976  114.2104  114.7332 ...,  101.7988  101.6314  102.0214]\n"
     ]
    },
    {
     "data": {
      "image/png": "[encoded data removed]",
      "text/plain": [
       "<matplotlib.figure.Figure at 0x1326e9190>"
      ]
     },
     "metadata": {},
     "output_type": "display_data"
    },
    {
     "data": {
      "image/png": "[encoded data removed]",
      "text/plain": [
       "<matplotlib.figure.Figure at 0x11be1ad10>"
      ]
     },
     "metadata": {},
     "output_type": "display_data"
    },
    {
     "data": {
      "image/png": "[encoded data removed]",
      "text/plain": [
       "<matplotlib.figure.Figure at 0x1322d3d50>"
      ]
     },
     "metadata": {},
     "output_type": "display_data"
    },
    {
     "data": {
      "image/png": "[encoded data removed]",
      "text/plain": [
       "<matplotlib.figure.Figure at 0x119f17790>"
      ]
     },
     "metadata": {},
     "output_type": "display_data"
    },
    {
     "data": {
      "image/png": "[encoded data removed]",
      "text/plain": [
       "<matplotlib.figure.Figure at 0x11c0a0d90>"
      ]
     },
     "metadata": {},
     "output_type": "display_data"
    },
    {
     "data": {
      "image/png": "[encoded data removed]",
      "text/plain": [
       "<matplotlib.figure.Figure at 0x11c0b2bd0>"
      ]
     },
     "metadata": {},
     "output_type": "display_data"
    },
    {
     "data": {
      "image/png": "[encoded data removed]",
      "text/plain": [
       "<matplotlib.figure.Figure at 0x11bb00b50>"
      ]
     },
     "metadata": {},
     "output_type": "display_data"
    },
    {
     "data": {
      "image/png": "[encoded data removed]",
      "text/plain": [
       "<matplotlib.figure.Figure at 0x11bb422d0>"
      ]
     },
     "metadata": {},
     "output_type": "display_data"
    },
    {
     "data": {
      "image/png": "[encoded data removed]",
      "text/plain": [
       "<matplotlib.figure.Figure at 0x119e7abd0>"
      ]
     },
     "metadata": {},
     "output_type": "display_data"
    },
    {
     "data": {
      "image/png": "[encoded data removed]",
      "text/plain": [
       "<matplotlib.figure.Figure at 0x11bea6810>"
      ]
     },
     "metadata": {},
     "output_type": "display_data"
    },
    {
     "data": {
      "text/plain": [
       "<matplotlib.figure.Figure at 0x11bd5a050>"
      ]
     },
     "metadata": {},
     "output_type": "display_data"
    }
   ],
   "source": [
    "for i in range(0,curr_total.shape[0]):\n",
    "    curr_total[i] /= curr_matches[i]\n",
    "\n",
    "print curr_total[all_lbls[0]]\n",
    "    \n",
    "curr_total = curr_total.astype('uint8')    \n",
    "       \n",
    "\n",
    "    \n",
    "for i in range(0,curr_total.shape[0]):\n",
    "    printImg(curr_total[i])\n",
    "    "
   ]
  },
  {
   "cell_type": "code",
   "execution_count": 97,
   "metadata": {
    "collapsed": false
   },
   "outputs": [],
   "source": [
    "# Separate all_data by label\n",
    "\n",
    "all_data_lbls = np.zeros((10, 5000, 3072))\n",
    "\n",
    "for lbl in range(0, 10):\n",
    "    lbl_idxs = [x for x in range(0,all_lbls.shape[0]) if all_lbls[x] == lbl]\n",
    "    for i in range(0,len(lbl_idxs)):\n",
    "        all_data_lbls[lbl][i] += all_data[lbl_idxs[i]]\n",
    "    "
   ]
  },
  {
   "cell_type": "markdown",
   "metadata": {},
   "source": [
    "The following code creates a PCA object for each category which produces a representation of an input image by the first 20 principal components for the category."
   ]
  },
  {
   "cell_type": "code",
   "execution_count": 111,
   "metadata": {
    "collapsed": false
   },
   "outputs": [],
   "source": [
    "# ==============\n",
    "# Problem 4.10 a (continued)\n",
    "# ==============\n",
    "\n",
    "# Run PCA on dataset, \n",
    "from sklearn import decomposition\n",
    "\n",
    "\n",
    "\n",
    "pca_0 = decomposition.PCA(n_components = 20)\n",
    "pca_1 = decomposition.PCA(n_components = 20)\n",
    "pca_2 = decomposition.PCA(n_components = 20)\n",
    "pca_3 = decomposition.PCA(n_components = 20)\n",
    "pca_4 = decomposition.PCA(n_components = 20)\n",
    "pca_5 = decomposition.PCA(n_components = 20)\n",
    "pca_6 = decomposition.PCA(n_components = 20)\n",
    "pca_7 = decomposition.PCA(n_components = 20)\n",
    "pca_8 = decomposition.PCA(n_components = 20)\n",
    "pca_9 = decomposition.PCA(n_components = 20)\n",
    "\n",
    "pcas = [pca_0, pca_1, pca_2, pca_3, pca_4, pca_5, pca_6, pca_7, pca_8, pca_9]\n",
    "\n",
    "for i in range(len(pcas)):\n",
    "    pcas[i].fit(all_data_lbls[i])\n",
    "\n",
    "\n"
   ]
  },
  {
   "cell_type": "code",
   "execution_count": null,
   "metadata": {
    "collapsed": true
   },
   "outputs": [],
   "source": [
    "def applyPCA(img,pca):\n",
    "    pca_im = pca.transform(img)\n",
    "    pca_reim = pca.inverse_transform(pca_im)\n",
    "    return pca_reim\n",
    "    \n",
    "def dispImg(img):\n",
    "    printImg(img.astype('uint8'))\n",
    "    \n",
    "def applyAndPrint(img,pca):\n",
    "    im = applyPCA(img,pca)\n",
    "    dispImg(im)\n",
    "\n",
    "applyAndPrint(all_data_lbls[1][0],pca_1)"
   ]
  },
  {
   "cell_type": "markdown",
   "metadata": {},
   "source": [
    "Shown below: An image from the automobile category."
   ]
  },
  {
   "cell_type": "code",
   "execution_count": 312,
   "metadata": {
    "collapsed": false
   },
   "outputs": [
    {
     "data": {
      "image/png": "[encoded data removed]",
      "text/plain": [
       "<matplotlib.figure.Figure at 0x11be19350>"
      ]
     },
     "metadata": {},
     "output_type": "display_data"
    },
    {
     "data": {
      "text/plain": [
       "<matplotlib.figure.Figure at 0x119c594d0>"
      ]
     },
     "metadata": {},
     "output_type": "display_data"
    }
   ],
   "source": [
    "printImg(all_data_lbls[1][0].astype('uint8'))"
   ]
  },
  {
   "cell_type": "markdown",
   "metadata": {},
   "source": [
    "Shown below: The same image from the car category, after being reconstructed using only the first 20 PCs."
   ]
  },
  {
   "cell_type": "code",
   "execution_count": 301,
   "metadata": {
    "collapsed": false
   },
   "outputs": [
    {
     "name": "stderr",
     "output_type": "stream",
     "text": [
      "/usr/local/lib/python2.7/site-packages/sklearn/utils/validation.py:395: DeprecationWarning: Passing 1d arrays as data is deprecated in 0.17 and will raise ValueError in 0.19. Reshape your data either using X.reshape(-1, 1) if your data has a single feature or X.reshape(1, -1) if it contains a single sample.\n",
      "  DeprecationWarning)\n"
     ]
    },
    {
     "data": {
      "image/png": "[encoded data removed]",
      "text/plain": [
       "<matplotlib.figure.Figure at 0x1323c9350>"
      ]
     },
     "metadata": {},
     "output_type": "display_data"
    },
    {
     "data": {
      "text/plain": [
       "<matplotlib.figure.Figure at 0x1325b4bd0>"
      ]
     },
     "metadata": {},
     "output_type": "display_data"
    }
   ],
   "source": [
    "applyAndPrint(all_data_lbls[1][0],pca_1)"
   ]
  },
  {
   "cell_type": "markdown",
   "metadata": {},
   "source": [
    "The following script inputs all examples of a certain category into the PCA for that category, and finds the total distance between the low-dimensional representations and the original images. This total distance is divided by 5,000, the number of images in each category, to give the average error per image for each class."
   ]
  },
  {
   "cell_type": "code",
   "execution_count": 311,
   "metadata": {
    "collapsed": false
   },
   "outputs": [
    {
     "name": "stdout",
     "output_type": "stream",
     "text": [
      "Data lost for label 0 :  62070.2394062\n",
      "Data lost for label 1 :  83368.4950071\n",
      "Data lost for label 2 :  62242.7050035\n",
      "Data lost for label 3 :  73420.7446061\n",
      "Data lost for label 4 :  60089.0480585\n",
      "Data lost for label 5 :  74468.3245622\n",
      "Data lost for label 6 :  67323.9424265\n",
      "Data lost for label 7 :  77399.7380194\n",
      "Data lost for label 8 :  61632.2213916\n",
      "Data lost for label 9 :  84719.9243174\n"
     ]
    }
   ],
   "source": [
    "# For each category, represent each image using the first 20 components of the category. Compute the average distance\n",
    "# between an image and its representation for each category.\n",
    "\n",
    "for i in range(0,10):\n",
    "# for i in range(0,all_data_lbls.shape[0]):\n",
    "    all_pcas_lbl = applyPCA(all_data_lbls[i],pcas[i])\n",
    "    set_dist = np.abs(all_pcas_lbl - all_data_lbls[i])\n",
    "    set_dist_mean = np.mean(set_dist)\n",
    "    tot_dist= np.sum(set_dist)\n",
    "    avg_dist = tot_dist / 5000\n",
    "    print \"Data lost for label\",i,\": \",avg_dist\n",
    "\n",
    "    "
   ]
  },
  {
   "cell_type": "markdown",
   "metadata": {},
   "source": [
    "### Problem 4.10 b"
   ]
  },
  {
   "cell_type": "markdown",
   "metadata": {},
   "source": [
    "The following code computes the distances between the mean images for each pair of classes."
   ]
  },
  {
   "cell_type": "code",
   "execution_count": 322,
   "metadata": {
    "collapsed": false
   },
   "outputs": [],
   "source": [
    "# ==============\n",
    "# Problem 4.10 b\n",
    "# ==============\n",
    "\n",
    "# (b) Compute the distances between mean images for each pair of classes. Use\n",
    "# principal coordinate analysis to make a 2D map of the means of each\n",
    "# categories. For this exercise, compute distances by thinking of the images\n",
    "# as vectors.\n",
    "\n",
    "means = curr_total\n",
    "\n",
    "cls_dists = np.zeros((10,10))\n",
    "for i in range(0,curr_total.shape[0]-1):\n",
    "    for j in range(i+1,curr_total.shape[0]):\n",
    "        cls_dists[i,j] = np.linalg.norm(curr_total[i]-curr_total[j])\n",
    "        cls_dists[j,i] = np.linalg.norm(curr_total[i]-curr_total[j])\n",
    "        \n",
    "innerprods = np.zeros((10,10))        \n",
    "for i in range(0,10):\n",
    "    for j in range(0,10):\n",
    "        innerprods[i][j] = np.dot(means[i],means[j])"
   ]
  },
  {
   "cell_type": "markdown",
   "metadata": {},
   "source": [
    "We take the eigenvectors corresponding to the two largest eigenvalues of the distance matrix to project the mean distances onto a 2D map. We observe that certain related categories are similar, such as bird and airplane, and automobile and truck."
   ]
  },
  {
   "cell_type": "code",
   "execution_count": 366,
   "metadata": {
    "collapsed": false
   },
   "outputs": [
    {
     "data": {
      "image/png": "[encoded data removed]",
      "text/plain": [
       "<matplotlib.figure.Figure at 0x1327b1390>"
      ]
     },
     "metadata": {},
     "output_type": "display_data"
    }
   ],
   "source": [
    "eigval, eigvec = np.linalg.eig(innerprods)\n",
    "var = eigval\n",
    "idx = np.argsort(-var)\n",
    "val = -np.sort(-var)\n",
    "basis = eigvec[:,idx[0:2]]\n",
    "var_sqrt = np.sqrt(var[idx[0:2]])\n",
    "points = basis * var_sqrt\n",
    "lbl_names = ['airplane','automobile','bird','cat','deer','dog','frog','horse','ship','truck']\n",
    "plt.scatter(points[:,0],points[:,1])\n",
    "for i,lbl in enumerate(lbl_names):\n",
    "    plt.annotate(lbl, (points[i,0],points[i,1]))"
   ]
  },
  {
   "cell_type": "markdown",
   "metadata": {},
   "source": [
    "### Problem 4.10 c"
   ]
  },
  {
   "cell_type": "markdown",
   "metadata": {},
   "source": [
    "In the following code, we perform the same operation as in B, except instead of using the distance between the means of categories, we use the distance metric specified in the problem, namely constructing the "
   ]
  },
  {
   "cell_type": "code",
   "execution_count": null,
   "metadata": {
    "collapsed": true
   },
   "outputs": [],
   "source": [
    "# ==============\n",
    "# Problem 4.10 c\n",
    "# ==============\n",
    "\n",
    "# (c) Here is another measure of the similarity of two classes. For class A and\n",
    "# class B, define E(A → B) to be the average error obtained by representing\n",
    "# all the images of class A using the mean of class A and the first 20 principal\n",
    "# components of class B. Now define the similarity between classes to be\n",
    "# (1/2)(E(A → B)+E(B → A)). Use principal coordinate analysis to make\n",
    "# a 2D map of the classes. Compare this map to the map in the previous\n",
    "# exercise – are they different? why?\n"
   ]
  },
  {
   "cell_type": "code",
   "execution_count": 373,
   "metadata": {
    "collapsed": false
   },
   "outputs": [],
   "source": [
    "#reconstruction\n",
    "\n",
    "adj_data_lbls = np.zeros((10, 10, 5000, 3072))\n",
    "\n",
    "for curr_lbl in range(0, 10):\n",
    "    for next_lbl in range(0, 10):\n",
    "        for i in range(0, 5000):\n",
    "            xi =  all_data_lbls[curr_lbl][i]\n",
    "            curr_mean = means[curr_lbl]\n",
    "            mi = xi - curr_mean\n",
    "            sums = np.zeros(3072)\n",
    "\n",
    "            for j in range(0,20):\n",
    "                sums += (pcas[next_lbl].components_[j].transpose()*mi)*pcas[next_lbl].components_[j]\n",
    "                \n",
    "            xi_hat = curr_mean + sums\n",
    "            adj_data_lbls[curr_lbl][next_lbl][i] = xi_hat"
   ]
  },
  {
   "cell_type": "code",
   "execution_count": 376,
   "metadata": {
    "collapsed": false
   },
   "outputs": [],
   "source": [
    "similiarity = np.zeros((10, 10))\n",
    "\n",
    "for i in range(0,10):\n",
    "    for j in range(0,10):\n",
    "        similiarity[i][j] = np.linalg.norm(adj_data_lbls[i][j]-all_data_lbls[i])"
   ]
  },
  {
   "cell_type": "code",
   "execution_count": 377,
   "metadata": {
    "collapsed": false
   },
   "outputs": [
    {
     "name": "stderr",
     "output_type": "stream",
     "text": [
      "/System/Library/Frameworks/Python.framework/Versions/2.7/Extras/lib/python/numpy/core/numeric.py:512: ComplexWarning: Casting complex values to real discards the imaginary part\n",
      "  return array(a, dtype, copy=False, order=order, subok=True)\n",
      "/System/Library/Frameworks/Python.framework/Versions/2.7/Extras/lib/python/matplotlib/text.py:1458: ComplexWarning: Casting complex values to real discards the imaginary part\n",
      "  x = float(self.convert_xunits(x))\n",
      "/System/Library/Frameworks/Python.framework/Versions/2.7/Extras/lib/python/matplotlib/text.py:1460: ComplexWarning: Casting complex values to real discards the imaginary part\n",
      "  y = float(self.convert_yunits(y))\n"
     ]
    },
    {
     "data": {
      "image/png": "[encoded data removed]",
      "text/plain": [
       "<matplotlib.figure.Figure at 0x119f07290>"
      ]
     },
     "metadata": {},
     "output_type": "display_data"
    }
   ],
   "source": [
    "eigval, eigvec = np.linalg.eig(similiarity)\n",
    "var = eigval\n",
    "idx = np.argsort(-var)\n",
    "val = -np.sort(-var)\n",
    "basis = eigvec[:,idx[0:2]]\n",
    "var_sqrt = np.sqrt(var[idx[0:2]])\n",
    "points = basis * var_sqrt\n",
    "lbl_names = ['airplane','automobile','bird','cat','deer','dog','frog','horse','ship','truck']\n",
    "plt.scatter(points[:,0],points[:,1])\n",
    "for i,lbl in enumerate(lbl_names):\n",
    "    plt.annotate(lbl, (points[i,0],points[i,1]))"
   ]
  },
  {
   "cell_type": "code",
   "execution_count": null,
   "metadata": {
    "collapsed": true
   },
   "outputs": [],
   "source": []
  }
 ],
 "metadata": {
  "kernelspec": {
   "display_name": "Python 2",
   "language": "python",
   "name": "python2"
  },
  "language_info": {
   "codemirror_mode": {
    "name": "ipython",
    "version": 2
   },
   "file_extension": ".py",
   "mimetype": "text/x-python",
   "name": "python",
   "nbconvert_exporter": "python",
   "pygments_lexer": "ipython2",
   "version": "2.7.10"
  }
 },
 "nbformat": 4,
 "nbformat_minor": 0
}
