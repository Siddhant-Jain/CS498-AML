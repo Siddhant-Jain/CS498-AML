{
 "cells": [
  {
   "cell_type": "markdown",
   "metadata": {},
   "source": [
    "CS 498 AML HW 3<br>\n",
    "Kenneth Zhang (kfzhang2)<br>\n",
    "Kirsten Wong <br>\n",
    "Roshan Rajan <br>"
   ]
  },
  {
   "cell_type": "markdown",
   "metadata": {},
   "source": [
    "4.10. CIFAR-10 is a dataset of 32x32 images in 10 categories, collected by Alex\n",
    "Krizhevsky, Vinod Nair, and Geoffrey Hinton. It is often used to evaluate\n",
    "machine learning algorithms. You can download this dataset from https://www.cs.toronto.edu/∼kriz/cifar.html."
   ]
  },
  {
   "cell_type": "code",
   "execution_count": 2,
   "metadata": {
    "collapsed": true
   },
   "outputs": [],
   "source": [
    "# Method for loading image data into dictionary.\n",
    "def unpickle(file):\n",
    "    import cPickle\n",
    "    fo = open(file, 'rb')\n",
    "    dict = cPickle.load(fo)\n",
    "    fo.close()\n",
    "    return dict"
   ]
  },
  {
   "cell_type": "code",
   "execution_count": 3,
   "metadata": {
    "collapsed": true
   },
   "outputs": [],
   "source": [
    "# Loads data from cifar folder into dictionary. (Make sure folder is in same directory as this notebook.)\n",
    "import os\n",
    "dirname = os.getcwd()\n",
    "db1_path = dirname+'/cifar-10-batches-py/data_batch_1'\n",
    "db1 = unpickle(db1_path)"
   ]
  },
  {
   "cell_type": "code",
   "execution_count": null,
   "metadata": {
    "collapsed": false
   },
   "outputs": [],
   "source": [
    "# ==============\n",
    "# Problem 4.10 a\n",
    "# ==============\n",
    "\n",
    "# (a) For each category, compute the mean image and the first 20 principal\n",
    "# components. Plot the error resulting from representing the images of each\n",
    "# category using the first 20 principal components against the category."
   ]
  },
  {
   "cell_type": "code",
   "execution_count": null,
   "metadata": {
    "collapsed": true
   },
   "outputs": [],
   "source": [
    "# ==============\n",
    "# Problem 4.10 b\n",
    "# ==============\n",
    "\n",
    "# (b) Compute the distances between mean images for each pair of classes. Use\n",
    "# principal coordinate analysis to make a 2D map of the means of each\n",
    "# categories. For this exercise, compute distances by thinking of the images\n",
    "# as vectors."
   ]
  },
  {
   "cell_type": "code",
   "execution_count": null,
   "metadata": {
    "collapsed": true
   },
   "outputs": [],
   "source": [
    "# ==============\n",
    "# Problem 4.10 c\n",
    "# ==============\n",
    "\n",
    "# (c) Here is another measure of the similarity of two classes. For class A and\n",
    "# class B, define E(A → B) to be the average error obtained by representing\n",
    "# all the images of class A using the mean of class A and the first 20 principal\n",
    "# components of class B. Now define the similarity between classes to be\n",
    "# (1/2)(E(A → B)+E(B → A)). Use principal coordinate analysis to make\n",
    "# a 2D map of the classes. Compare this map to the map in the previous\n",
    "# exercise – are they different? why?"
   ]
  }
 ],
 "metadata": {
  "kernelspec": {
   "display_name": "Python 2",
   "language": "python",
   "name": "python2"
  },
  "language_info": {
   "codemirror_mode": {
    "name": "ipython",
    "version": 2
   },
   "file_extension": ".py",
   "mimetype": "text/x-python",
   "name": "python",
   "nbconvert_exporter": "python",
   "pygments_lexer": "ipython2",
   "version": "2.7.10"
  }
 },
 "nbformat": 4,
 "nbformat_minor": 0
}
