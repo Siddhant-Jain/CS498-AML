{
 "cells": [
  {
   "cell_type": "markdown",
   "metadata": {},
   "source": [
    "## CS 498 AML HW 4<br>\n",
    "Kenneth Zhang (kfzhang2)<br>\n",
    "Kirsten Wong (kewong2)<br>\n",
    "Roshan Rajan (rjrajan2)<br>"
   ]
  },
  {
   "cell_type": "markdown",
   "metadata": {
    "collapsed": true
   },
   "source": [
    "### 7.9"
   ]
  },
  {
   "cell_type": "markdown",
   "metadata": {},
   "source": [
    "At http://www.statsci.org/data/general/brunhild.html, you will find a dataset that measures the concentration of a sulfate in the blood of a baboon named Brunhilda as a function of time. Build a linear regression of the log of the concentration against the log of time.<br>\n",
    "(a) Prepare a plot showing (a) the data points and (b) the regression line in log-log coordinates.<br>\n",
    "(b) Prepare a plot showing (a) the data points and (b) the regression curve in the original coordinates.<br>\n",
    "(c) Plot the residual against the fitted values in log-log and in original coordinates.<br>\n",
    "(d) Use your plots to explain whether your regression is good or bad and why.<br>"
   ]
  },
  {
   "cell_type": "markdown",
   "metadata": {},
   "source": [
    "### 7.10"
   ]
  },
  {
   "cell_type": "markdown",
   "metadata": {},
   "source": [
    "Athttp://www.statsci.org/data/oz/physical.html,youwillfindadatasetofmea- surements by M. Larner, made in 1996. These measurements include body mass, and various diameters. Build a linear regression of predicting the body\n",
    "mass from these diameters.<br>\n",
    "(a) Plot the residual against the fitted values for your regression.<br>\n",
    "(b) Now regress the cube root of mass against these diameters. Plot the residual against the fitted values in both these cube root coordinates and in the original coordinates.<br>\n",
    "(c) Use your plots to explain which regression is better."
   ]
  },
  {
   "cell_type": "markdown",
   "metadata": {},
   "source": [
    "### 7.11"
   ]
  },
  {
   "cell_type": "markdown",
   "metadata": {},
   "source": [
    "At https://archive.ics.uci.edu/ml/datasets/Abalone, you will find a dataset of measurements by W. J. Nash, T. L. Sellers, S. R. Talbot, A. J. Cawthorn and W. B. Ford, made in 1992. These are a variety of measurements of blacklip abalone (Haliotis rubra; delicious by repute) of various ages and genders.<br>\n",
    "(a) Build a linear regression predicting the age from the measurements, ignoring gender. Plot the residual against the fitted values.<br>\n",
    "(b) Build a linear regression predicting the age from the measurements, including gender. There are three levels for gender; I’m not sure whether this has to do with abalone biology or difficulty in determining gender. You can represent gender numerically by choosing 1 for one level, 0 for another, and -1 for the third. Plot the residual against the fitted values.<br>\n",
    "(c) Now build a linear regression predicting the log of age from the measure- ments, ignoring gender. Plot the residual against the fitted values.<br>\n",
    "(d) Now build a linear regression predicting the log age from the measure- ments, including gender, represented as above. Plot the residual against the fitted values.<br>\n",
    "(e) It turns out that determining the age of an abalone is possible, but difficult (you section the shell, and count rings). Use your plots to explain which regression you would use to replace this procedure, and why.<br>\n",
    "(f) Can you improve these regressions by using a regularizer? Use glmnet to obtain plots of the cross-validated prediction error."
   ]
  },
  {
   "cell_type": "code",
   "execution_count": null,
   "metadata": {
    "collapsed": true
   },
   "outputs": [],
   "source": []
  }
 ],
 "metadata": {
  "kernelspec": {
   "display_name": "Python 2",
   "language": "python",
   "name": "python2"
  },
  "language_info": {
   "codemirror_mode": {
    "name": "ipython",
    "version": 2
   },
   "file_extension": ".py",
   "mimetype": "text/x-python",
   "name": "python",
   "nbconvert_exporter": "python",
   "pygments_lexer": "ipython2",
   "version": "2.7.10"
  }
 },
 "nbformat": 4,
 "nbformat_minor": 0
}
