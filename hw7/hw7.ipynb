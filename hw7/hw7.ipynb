{
 "cells": [
  {
   "cell_type": "markdown",
   "metadata": {
    "deletable": true,
    "editable": true
   },
   "source": [
    "# CS 498 AML HW 7\n",
    "Roshan Rajan (rjrajan2)<br>\n",
    "Kirsten Wong (kewong2)<br>\n",
    "Kenneth Zhang (kfzhang2)<br>"
   ]
  },
  {
   "cell_type": "markdown",
   "metadata": {
    "deletable": true,
    "editable": true
   },
   "source": [
    "### Mean Inference for Binary Images"
   ]
  },
  {
   "cell_type": "markdown",
   "metadata": {
    "deletable": true,
    "editable": true
   },
   "source": [
    "#### Initialization\n",
    "Read in the MNIST dataset."
   ]
  },
  {
   "cell_type": "code",
   "execution_count": 1,
   "metadata": {
    "collapsed": true,
    "deletable": true,
    "editable": true
   },
   "outputs": [],
   "source": [
    "% matplotlib inline\n",
    "from matplotlib import pyplot as plt"
   ]
  },
  {
   "cell_type": "code",
   "execution_count": 2,
   "metadata": {
    "collapsed": true,
    "deletable": true,
    "editable": true
   },
   "outputs": [],
   "source": [
    "# %load mnist.py\n",
    "# File for opening mnist dataset\n",
    "# Source: https://gist.github.com/akesling/5358964\n",
    "import os\n",
    "import struct\n",
    "import numpy as np\n",
    "\n",
    "\"\"\"\n",
    "Loosely inspired by http://abel.ee.ucla.edu/cvxopt/_downloads/mnist.py\n",
    "which is GPL licensed.\n",
    "\"\"\"\n",
    "\n",
    "def read(dataset = \"training\", path = \".\"):\n",
    "    \"\"\"\n",
    "    Python function for importing the MNIST data set.  It returns an iterator\n",
    "    of 2-tuples with the first element being the label and the second element\n",
    "    being a numpy.uint8 2D array of pixel data for the given image.\n",
    "    \"\"\"\n",
    "\n",
    "    if dataset is \"training\":\n",
    "        fname_img = os.path.join(path, 'train-images-idx3-ubyte')\n",
    "        fname_lbl = os.path.join(path, 'train-labels-idx1-ubyte')\n",
    "    elif dataset is \"testing\":\n",
    "        fname_img = os.path.join(path, 't10k-images-idx3-ubyte')\n",
    "        fname_lbl = os.path.join(path, 't10k-labels-idx1-ubyte')\n",
    "    else:\n",
    "        raise ValueError, \"dataset must be 'testing' or 'training'\"\n",
    "\n",
    "    # Load everything in some numpy arrays\n",
    "    with open(fname_lbl, 'rb') as flbl:\n",
    "        magic, num = struct.unpack(\">II\", flbl.read(8))\n",
    "        lbl = np.fromfile(flbl, dtype=np.int8)\n",
    "\n",
    "    with open(fname_img, 'rb') as fimg:\n",
    "        magic, num, rows, cols = struct.unpack(\">IIII\", fimg.read(16))\n",
    "        img = np.fromfile(fimg, dtype=np.uint8).reshape(len(lbl), rows, cols)\n",
    "\n",
    "    get_img = lambda idx: (lbl[idx], img[idx])\n",
    "\n",
    "    # Create an iterator which returns each image in turn\n",
    "    for i in xrange(len(lbl)):\n",
    "        yield get_img(i)\n",
    "\n",
    "def show(image):\n",
    "    \"\"\"\n",
    "    Render a given numpy.uint8 2D array of pixel data.\n",
    "    \"\"\"\n",
    "    from matplotlib import pyplot\n",
    "    import matplotlib as mpl\n",
    "    fig = pyplot.figure()\n",
    "    ax = fig.add_subplot(1,1,1)\n",
    "    imgplot = ax.imshow(image, cmap=mpl.cm.Greys)\n",
    "    imgplot.set_interpolation('nearest')\n",
    "    ax.xaxis.set_ticks_position('top')\n",
    "    ax.yaxis.set_ticks_position('left')\n",
    "    pyplot.show()\n"
   ]
  },
  {
   "cell_type": "code",
   "execution_count": 3,
   "metadata": {
    "collapsed": true,
    "deletable": true,
    "editable": true
   },
   "outputs": [],
   "source": [
    "def to_img(img_list):\n",
    "    # Note: only works on square images\n",
    "    output = []\n",
    "    for i in range(0,img_list.shape[0]):\n",
    "        output.append(np.reshape(img_list[i],(28,28)))\n",
    "    return output"
   ]
  },
  {
   "cell_type": "code",
   "execution_count": 4,
   "metadata": {
    "collapsed": true,
    "deletable": true,
    "editable": true
   },
   "outputs": [],
   "source": [
    "training_data = list(read(dataset = \"training\", path = '.'))"
   ]
  },
  {
   "cell_type": "code",
   "execution_count": 5,
   "metadata": {
    "collapsed": false,
    "deletable": true,
    "editable": true
   },
   "outputs": [],
   "source": [
    "# Get first 500 images\n",
    "training_data = training_data[0:500]"
   ]
  },
  {
   "cell_type": "markdown",
   "metadata": {
    "deletable": true,
    "editable": true
   },
   "source": [
    "Make two forms of data: list of 28x28 images, and list of length 784 pixels. The images are binarized to (-1,1)-space."
   ]
  },
  {
   "cell_type": "code",
   "execution_count": 6,
   "metadata": {
    "collapsed": true,
    "deletable": true,
    "editable": true
   },
   "outputs": [],
   "source": [
    "im_data = np.ndarray((0,784))\n",
    "for i in range(0,500):\n",
    "    temp = np.reshape((training_data[i][1]).astype(int),(1,784))\n",
    "    temp = (temp > 0.5).astype(int) - (temp <= 0.5).astype(int)\n",
    "    im_data = np.append(im_data,temp,0)"
   ]
  },
  {
   "cell_type": "code",
   "execution_count": 7,
   "metadata": {
    "collapsed": true,
    "deletable": true,
    "editable": true
   },
   "outputs": [],
   "source": [
    "im_pics = to_img(im_data)"
   ]
  },
  {
   "cell_type": "code",
   "execution_count": 8,
   "metadata": {
    "collapsed": false,
    "deletable": true,
    "editable": true
   },
   "outputs": [],
   "source": [
    "im_data_noisy = np.copy(im_data)"
   ]
  },
  {
   "cell_type": "code",
   "execution_count": 9,
   "metadata": {
    "collapsed": false,
    "deletable": true,
    "editable": true
   },
   "outputs": [
    {
     "data": {
      "text/plain": [
       "<matplotlib.image.AxesImage at 0x7f32f0d4ba10>"
      ]
     },
     "execution_count": 9,
     "metadata": {},
     "output_type": "execute_result"
    },
    {
     "data": {
      "image/png": "[encoded data removed]",
      "text/plain": [
       "<matplotlib.figure.Figure at 0x7f32f3bc6a50>"
      ]
     },
     "metadata": {},
     "output_type": "display_data"
    },
    {
     "data": {
      "image/png": "[encoded data removed]",
      "text/plain": [
       "<matplotlib.figure.Figure at 0x7f32f04c8490>"
      ]
     },
     "metadata": {},
     "output_type": "display_data"
    },
    {
     "data": {
      "image/png": "[encoded data removed]",
      "text/plain": [
       "<matplotlib.figure.Figure at 0x7f32f0e59150>"
      ]
     },
     "metadata": {},
     "output_type": "display_data"
    }
   ],
   "source": [
    "plt.figure()\n",
    "plt.imshow(im_pics[0],cmap='gray')\n",
    "plt.figure()\n",
    "plt.imshow(im_pics[1],cmap='gray')\n",
    "plt.figure()\n",
    "plt.imshow(im_pics[2],cmap='gray')"
   ]
  },
  {
   "cell_type": "markdown",
   "metadata": {
    "deletable": true,
    "editable": true
   },
   "source": [
    "We will use the first 500 of the training set images.\n",
    "Obtain the MNIST training set, and binarize the first 500 images by mapping any value below .5 to -1 and any value above to 1. For each image, create a noisy version by randomly flipping 2% of the bits.\n",
    "Now denoise each image using a Boltzmann machine model and mean field inference. Use theta_{ij}=0.2 for the H_i, H_j terms and theta_{ij}=2 for the H_i, X_j terms. To hand in: Report the fraction of all pixels that are correct in the 500 images."
   ]
  },
  {
   "cell_type": "code",
   "execution_count": 10,
   "metadata": {
    "collapsed": false,
    "deletable": true,
    "editable": true
   },
   "outputs": [],
   "source": [
    "for i in range(0,im_data.shape[0]):\n",
    "    bits_to_flip = np.random.choice(784,15,replace=False)\n",
    "    im_data_noisy[i][bits_to_flip] = (im_data_noisy[i][bits_to_flip])*-1"
   ]
  },
  {
   "cell_type": "code",
   "execution_count": 11,
   "metadata": {
    "collapsed": false,
    "deletable": true,
    "editable": true
   },
   "outputs": [
    {
     "data": {
      "text/plain": [
       "<matplotlib.image.AxesImage at 0x7f32f058a950>"
      ]
     },
     "execution_count": 11,
     "metadata": {},
     "output_type": "execute_result"
    },
    {
     "data": {
      "image/png": "[encoded data removed]",
      "text/plain": [
       "<matplotlib.figure.Figure at 0x7f32f3bc6350>"
      ]
     },
     "metadata": {},
     "output_type": "display_data"
    }
   ],
   "source": [
    "im_data_f = to_img(im_data_noisy)\n",
    "plt.imshow(im_data_f[0],cmap=\"gray\")"
   ]
  },
  {
   "cell_type": "markdown",
   "metadata": {
    "deletable": true,
    "editable": true
   },
   "source": [
    "Boltzmann Model for MFI Algorithm"
   ]
  },
  {
   "cell_type": "code",
   "execution_count": 12,
   "metadata": {
    "collapsed": false,
    "deletable": true,
    "editable": true
   },
   "outputs": [],
   "source": [
    "def boltz_result(pi):\n",
    "    output = np.zeros((28,28))\n",
    "    for i in range(0,28):\n",
    "        for j in range(0,28):\n",
    "            output[i][j] = (pi[i][j] > 0.5) - int(not (pi[i][j] > 0.5))\n",
    "    return output\n",
    "\n",
    "# To be used with 2-D image\n",
    "def boltzmann(img,num_iter,theta_ij):\n",
    "    im_pi = np.ones((28,28)) * 0.5\n",
    "    \n",
    "    for k in range(0,num_iter):\n",
    "        for x in range(0,img.shape[0]):\n",
    "            for y in range(0,img.shape[1]):\n",
    "                z = 0.0\n",
    "                if(x > 0):\n",
    "                    z += theta_ij * (2*im_pi[x-1][y]-1)  + theta_ij*img[x-1][y]\n",
    "                if(x < 27):\n",
    "                    z += theta_ij * (2*im_pi[x+1][y]-1)  + theta_ij*img[x+1][y]\n",
    "                if(y > 0):\n",
    "                    z += theta_ij * (2*im_pi[x][y-1]-1)  + theta_ij*img[x][y-1]\n",
    "                if(y < 27):\n",
    "                    z += theta_ij * (2*im_pi[x][y+1]-1)  + theta_ij*img[x][y+1]\n",
    "                    \n",
    "                im_pi[x][y] = (np.exp(z) / (np.exp(-z) + np.exp(z)))\n",
    "    return im_pi"
   ]
  },
  {
   "cell_type": "code",
   "execution_count": 13,
   "metadata": {
    "collapsed": false,
    "deletable": true,
    "editable": true
   },
   "outputs": [],
   "source": [
    "theta_ij = 0.2\n",
    "num_iter = 10\n",
    "\n",
    "pi_02 = np.zeros((500,28,28))\n",
    "for i in range(0,pi_02.shape[0]):\n",
    "    pi_02[i] = boltzmann(im_data_f[i],num_iter,theta_ij)\n",
    "    \n",
    "im_data_denoised_02 = np.zeros((500,28,28))\n",
    "\n",
    "for i in range(0,im_data_denoised_02.shape[0]):\n",
    "    im_data_denoised_02[i] = boltz_result(pi_02[i])"
   ]
  },
  {
   "cell_type": "markdown",
   "metadata": {
    "deletable": true,
    "editable": true
   },
   "source": [
    "Get fraction of correctly denoised pixels over all 500 images"
   ]
  },
  {
   "cell_type": "code",
   "execution_count": 14,
   "metadata": {
    "collapsed": false,
    "deletable": true,
    "editable": true
   },
   "outputs": [
    {
     "data": {
      "text/plain": [
       "0.98395918367346935"
      ]
     },
     "execution_count": 14,
     "metadata": {},
     "output_type": "execute_result"
    }
   ],
   "source": [
    "(np.sum(im_data_denoised_02 == im_pics)) / (500.0*784.0)"
   ]
  },
  {
   "cell_type": "markdown",
   "metadata": {
    "deletable": true,
    "editable": true
   },
   "source": [
    "Get fraction of correctly denoised pixels in each image"
   ]
  },
  {
   "cell_type": "code",
   "execution_count": 15,
   "metadata": {
    "collapsed": false,
    "deletable": true,
    "editable": true
   },
   "outputs": [],
   "source": [
    "accs_02 = np.zeros(500)\n",
    "for i in range(0,500):\n",
    "    accs_02[i] = np.sum(im_data_denoised_02[i] == im_pics[i]) / (784.0)"
   ]
  },
  {
   "cell_type": "markdown",
   "metadata": {
    "deletable": true,
    "editable": true
   },
   "source": [
    "Most accurate reconstruction for $\\theta_{ij} = 0.2$"
   ]
  },
  {
   "cell_type": "code",
   "execution_count": 16,
   "metadata": {
    "collapsed": false,
    "deletable": true,
    "editable": true
   },
   "outputs": [
    {
     "name": "stdout",
     "output_type": "stream",
     "text": [
      "The Accuracy Value is 0.997448979592.\n"
     ]
    },
    {
     "data": {
      "image/png": "[encoded data removed]",
      "text/plain": [
       "<matplotlib.figure.Figure at 0x7f32f0cecb10>"
      ]
     },
     "metadata": {},
     "output_type": "display_data"
    },
    {
     "data": {
      "image/png": "[encoded data removed]",
      "text/plain": [
       "<matplotlib.figure.Figure at 0x7f32ede5a890>"
      ]
     },
     "metadata": {},
     "output_type": "display_data"
    },
    {
     "data": {
      "image/png": "[encoded data removed]",
      "text/plain": [
       "<matplotlib.figure.Figure at 0x7f32eddf3610>"
      ]
     },
     "metadata": {},
     "output_type": "display_data"
    }
   ],
   "source": [
    "accs_02_max = np.argmax(accs_02)\n",
    "accs_02_min = np.argmin(accs_02)\n",
    "plt.imshow(im_pics[accs_02_max],cmap=\"gray\")\n",
    "plt.title('Original image')\n",
    "plt.figure()\n",
    "plt.imshow(im_data_f[accs_02_max],cmap=\"gray\")\n",
    "plt.title('Noisy Image')\n",
    "plt.figure()\n",
    "plt.imshow(im_data_denoised_02[accs_02_max],cmap=\"gray\")\n",
    "plt.title('Reconstructed Image')\n",
    "print 'The Accuracy Value is {}.'.format(accs_02[accs_02_max])"
   ]
  },
  {
   "cell_type": "markdown",
   "metadata": {
    "deletable": true,
    "editable": true
   },
   "source": [
    "Least accurate reconstruction for $\\theta_{ij} = 0.2$"
   ]
  },
  {
   "cell_type": "code",
   "execution_count": 17,
   "metadata": {
    "collapsed": false,
    "deletable": true,
    "editable": true
   },
   "outputs": [
    {
     "name": "stdout",
     "output_type": "stream",
     "text": [
      "The Accuracy Value is 0.960459183673.\n"
     ]
    },
    {
     "data": {
      "image/png": "[encoded data removed]",
      "text/plain": [
       "<matplotlib.figure.Figure at 0x7f32ede1de50>"
      ]
     },
     "metadata": {},
     "output_type": "display_data"
    },
    {
     "data": {
      "image/png": "[encoded data removed]",
      "text/plain": [
       "<matplotlib.figure.Figure at 0x7f32edc7b610>"
      ]
     },
     "metadata": {},
     "output_type": "display_data"
    },
    {
     "data": {
      "image/png": "[encoded data removed]",
      "text/plain": [
       "<matplotlib.figure.Figure at 0x7f32edb8a1d0>"
      ]
     },
     "metadata": {},
     "output_type": "display_data"
    }
   ],
   "source": [
    "plt.imshow(im_pics[accs_02_min],cmap=\"gray\")\n",
    "plt.title('Original image')\n",
    "plt.figure()\n",
    "plt.imshow(im_data_f[accs_02_min],cmap=\"gray\")\n",
    "plt.title('Noisy image')\n",
    "plt.figure()\n",
    "plt.imshow(im_data_denoised_02[accs_02_min],cmap=\"gray\")\n",
    "plt.title('Reconstructed image')\n",
    "print 'The Accuracy Value is {}.'.format(accs_02[accs_02_min])"
   ]
  },
  {
   "cell_type": "markdown",
   "metadata": {
    "deletable": true,
    "editable": true
   },
   "source": [
    "Results for $\\theta_{ij} = 2.0$"
   ]
  },
  {
   "cell_type": "code",
   "execution_count": 18,
   "metadata": {
    "collapsed": true,
    "deletable": true,
    "editable": true
   },
   "outputs": [],
   "source": [
    "theta_ij = 2.0\n",
    "pi_2 = np.zeros((500,28,28))\n",
    "for i in range(0,pi_2.shape[0]):\n",
    "    pi_2[i] = boltzmann(im_data_f[i],num_iter,theta_ij)\n",
    "    \n",
    "im_data_denoised_2 = np.zeros((500,28,28))\n",
    "\n",
    "for i in range(0,im_data_denoised_2.shape[0]):\n",
    "    im_data_denoised_2[i] = boltz_result(pi_2[i])"
   ]
  },
  {
   "cell_type": "markdown",
   "metadata": {
    "deletable": true,
    "editable": true
   },
   "source": [
    "Get fraction of correctly denoised pixels over all 500 images"
   ]
  },
  {
   "cell_type": "code",
   "execution_count": 19,
   "metadata": {
    "collapsed": false,
    "deletable": true,
    "editable": true
   },
   "outputs": [
    {
     "data": {
      "text/plain": [
       "0.98231887755102043"
      ]
     },
     "execution_count": 19,
     "metadata": {},
     "output_type": "execute_result"
    }
   ],
   "source": [
    "(np.sum(im_data_denoised_2 == im_pics)) / (500.0*784.0)"
   ]
  },
  {
   "cell_type": "markdown",
   "metadata": {
    "deletable": true,
    "editable": true
   },
   "source": [
    "Get fraction of correctly denoised pixels in each image"
   ]
  },
  {
   "cell_type": "code",
   "execution_count": 20,
   "metadata": {
    "collapsed": true,
    "deletable": true,
    "editable": true
   },
   "outputs": [],
   "source": [
    "accs_2 = np.zeros(500)\n",
    "for i in range(0,500):\n",
    "    accs_2[i] = np.sum(im_data_denoised_2[i] == im_pics[i]) / (784.0)"
   ]
  },
  {
   "cell_type": "markdown",
   "metadata": {
    "deletable": true,
    "editable": true
   },
   "source": [
    "Most accurate reconstruction for $\\theta_{ij} = 2$"
   ]
  },
  {
   "cell_type": "code",
   "execution_count": 21,
   "metadata": {
    "collapsed": false,
    "deletable": true,
    "editable": true
   },
   "outputs": [
    {
     "name": "stdout",
     "output_type": "stream",
     "text": [
      "The Accuracy Value is 0.996173469388.\n"
     ]
    },
    {
     "data": {
      "image/png": "[encoded data removed]",
      "text/plain": [
       "<matplotlib.figure.Figure at 0x7f32edadb250>"
      ]
     },
     "metadata": {},
     "output_type": "display_data"
    },
    {
     "data": {
      "image/png": "[encoded data removed]",
      "text/plain": [
       "<matplotlib.figure.Figure at 0x7f32edbd3a50>"
      ]
     },
     "metadata": {},
     "output_type": "display_data"
    },
    {
     "data": {
      "image/png": "[encoded data removed]",
      "text/plain": [
       "<matplotlib.figure.Figure at 0x7f32edcebd10>"
      ]
     },
     "metadata": {},
     "output_type": "display_data"
    }
   ],
   "source": [
    "accs_2_max = np.argmax(accs_2)\n",
    "accs_2_min = np.argmin(accs_2)\n",
    "plt.imshow(im_pics[accs_2_max],cmap=\"gray\")\n",
    "plt.title('Original image')\n",
    "plt.figure()\n",
    "plt.imshow(im_data_f[accs_2_max],cmap=\"gray\")\n",
    "plt.title('Noisy Image')\n",
    "plt.figure()\n",
    "plt.imshow(im_data_denoised_2[accs_2_max],cmap=\"gray\")\n",
    "plt.title('Reconstructed Image')\n",
    "print 'The Accuracy Value is {}.'.format(accs_2[accs_2_max])"
   ]
  },
  {
   "cell_type": "markdown",
   "metadata": {
    "deletable": true,
    "editable": true
   },
   "source": [
    "Lease accurate reconstruction for $\\theta_{ij} = 2$"
   ]
  },
  {
   "cell_type": "code",
   "execution_count": 22,
   "metadata": {
    "collapsed": false,
    "deletable": true,
    "editable": true
   },
   "outputs": [
    {
     "name": "stdout",
     "output_type": "stream",
     "text": [
      "The Accuracy Value is 0.959183673469.\n"
     ]
    },
    {
     "data": {
      "image/png": "[encoded data removed]",
      "text/plain": [
       "<matplotlib.figure.Figure at 0x7f32f0c88790>"
      ]
     },
     "metadata": {},
     "output_type": "display_data"
    },
    {
     "data": {
      "image/png": "[encoded data removed]",
      "text/plain": [
       "<matplotlib.figure.Figure at 0x7f32f04bbe90>"
      ]
     },
     "metadata": {},
     "output_type": "display_data"
    },
    {
     "data": {
      "image/png": "[encoded data removed]",
      "text/plain": [
       "<matplotlib.figure.Figure at 0x7f32edb0ecd0>"
      ]
     },
     "metadata": {},
     "output_type": "display_data"
    }
   ],
   "source": [
    "plt.imshow(im_pics[accs_2_min],cmap=\"gray\")\n",
    "plt.title('Original image')\n",
    "plt.figure()\n",
    "plt.imshow(im_data_f[accs_2_min],cmap=\"gray\")\n",
    "plt.title('Noisy image')\n",
    "plt.figure()\n",
    "plt.imshow(im_data_denoised_2[accs_2_min],cmap=\"gray\")\n",
    "plt.title('Reconstructed image')\n",
    "print 'The Accuracy Value is {}.'.format(accs_2[accs_2_min])"
   ]
  },
  {
   "cell_type": "markdown",
   "metadata": {
    "collapsed": true,
    "deletable": true,
    "editable": true
   },
   "source": [
    "ROC Curve"
   ]
  },
  {
   "cell_type": "code",
   "execution_count": 23,
   "metadata": {
    "collapsed": false,
    "deletable": true,
    "editable": true
   },
   "outputs": [],
   "source": [
    "def denoiser(theta_ij, num_iter, noisy_data):\n",
    "    pi = np.zeros((500,28,28))\n",
    "    \n",
    "    for i in range(0,pi.shape[0]):\n",
    "        pi[i] = boltzmann(noisy_data[i],num_iter,theta_ij)\n",
    "    \n",
    "    im_data_denoised = np.zeros((500,28,28))\n",
    "\n",
    "    for i in range(0,im_data_denoised.shape[0]):\n",
    "        im_data_denoised[i] = boltz_result(pi[i])\n",
    "    \n",
    "    return im_data_denoised"
   ]
  },
  {
   "cell_type": "code",
   "execution_count": 34,
   "metadata": {
    "collapsed": false,
    "deletable": true,
    "editable": true
   },
   "outputs": [],
   "source": [
    "im_denoised = []\n",
    "\n",
    "for theta_ij in np.arange(-1, 1, 0.1):\n",
    "    if float(\"{0:.1f}\".format(theta_ij)) == 0: continue\n",
    "    im_denoised.append((denoiser(theta_ij, num_iter, im_data_f)).reshape(500, 784))"
   ]
  },
  {
   "cell_type": "code",
   "execution_count": 35,
   "metadata": {
    "collapsed": true,
    "deletable": true,
    "editable": true
   },
   "outputs": [],
   "source": [
    "def roc_calc_total(img_data, denoised_data):\n",
    "    tp = fp = 0\n",
    "    cond_neg = cond_pos = 0\n",
    "    for i in range(0, 500):\n",
    "        _, counts = np.unique(img_data[i], return_counts=True)\n",
    "        cond_neg += float(counts[0])\n",
    "        cond_pos += float(counts[1])\n",
    "        for j in range(0, 784):\n",
    "            if (img_data[i][j] == 1 and denoised_data[i][j] == 1):\n",
    "                tp += 1\n",
    "            if (img_data[i][j] == -1 and denoised_data[i][j] == 1):\n",
    "                fp += 1\n",
    "    tpr = tp/cond_pos\n",
    "    fpr = fp/cond_neg\n",
    "    return tpr, fpr"
   ]
  },
  {
   "cell_type": "code",
   "execution_count": 43,
   "metadata": {
    "collapsed": false,
    "deletable": true,
    "editable": true
   },
   "outputs": [],
   "source": [
    "tpr = np.zeros(len(im_denoised))\n",
    "fpr = np.zeros(len(im_denoised))\n",
    "for i in range (0, len(im_denoised)):\n",
    "    tpr[i], fpr[i] = roc_calc_total(im_data, im_denoised[i])"
   ]
  },
  {
   "cell_type": "code",
   "execution_count": 44,
   "metadata": {
    "collapsed": false,
    "deletable": true,
    "editable": true
   },
   "outputs": [
    {
     "data": {
      "image/png": "[encoded data removed]",
      "text/plain": [
       "<matplotlib.figure.Figure at 0x7f32ede2a5d0>"
      ]
     },
     "metadata": {},
     "output_type": "display_data"
    }
   ],
   "source": [
    "plt.figure()\n",
    "lw = 2\n",
    "plt.plot([0, 1], [0, 1], color='navy', lw=lw, linestyle='--')\n",
    "plt.scatter(fpr, tpr, color='darkorange')\n",
    "plt.xlim([0.0, 1.0])\n",
    "plt.ylim([0.0, 1.05])\n",
    "plt.xlabel('False Positive Rate')\n",
    "plt.ylabel('True Positive Rate')\n",
    "plt.title('Receiver operating characteristic for all c')\n",
    "plt.show()"
   ]
  }
 ],
 "metadata": {
  "kernelspec": {
   "display_name": "Python 2",
   "language": "python",
   "name": "python2"
  },
  "language_info": {
   "codemirror_mode": {
    "name": "ipython",
    "version": 2
   },
   "file_extension": ".py",
   "mimetype": "text/x-python",
   "name": "python",
   "nbconvert_exporter": "python",
   "pygments_lexer": "ipython2",
   "version": "2.7.12"
  }
 },
 "nbformat": 4,
 "nbformat_minor": 0
}
